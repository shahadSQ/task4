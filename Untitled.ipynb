{
 "cells": [
  {
   "cell_type": "markdown",
   "id": "0b437dc3-d258-41ed-abb7-ca8bce784982",
   "metadata": {},
   "source": [
    "# 0.Install Dependencies"
   ]
  },
  {
   "cell_type": "code",
   "execution_count": 1,
   "id": "b8e1571f-f66a-404b-922f-064dc665a43f",
   "metadata": {},
   "outputs": [
    {
     "name": "stdout",
     "output_type": "stream",
     "text": [
      "Requirement already satisfied: ibm_watson in c:\\users\\shahad\\appdata\\local\\programs\\python\\python39\\lib\\site-packages (5.2.2)\n",
      "Requirement already satisfied: requests<3.0,>=2.0 in c:\\users\\shahad\\appdata\\local\\programs\\python\\python39\\lib\\site-packages (from ibm_watson) (2.25.1)\n",
      "Requirement already satisfied: websocket-client==1.1.0 in c:\\users\\shahad\\appdata\\local\\programs\\python\\python39\\lib\\site-packages (from ibm_watson) (1.1.0)\n",
      "Requirement already satisfied: ibm-cloud-sdk-core==3.*,>=3.3.6 in c:\\users\\shahad\\appdata\\local\\programs\\python\\python39\\lib\\site-packages (from ibm_watson) (3.10.1)\n",
      "Requirement already satisfied: python-dateutil>=2.5.3 in c:\\users\\shahad\\appdata\\local\\programs\\python\\python39\\lib\\site-packages (from ibm_watson) (2.8.1)\n",
      "Requirement already satisfied: PyJWT<3.0.0,>=2.0.1 in c:\\users\\shahad\\appdata\\local\\programs\\python\\python39\\lib\\site-packages (from ibm-cloud-sdk-core==3.*,>=3.3.6->ibm_watson) (2.1.0)\n",
      "Requirement already satisfied: six>=1.5 in c:\\users\\shahad\\appdata\\local\\programs\\python\\python39\\lib\\site-packages (from python-dateutil>=2.5.3->ibm_watson) (1.16.0)\n",
      "Requirement already satisfied: idna<3,>=2.5 in c:\\users\\shahad\\appdata\\local\\programs\\python\\python39\\lib\\site-packages (from requests<3.0,>=2.0->ibm_watson) (2.10)\n",
      "Requirement already satisfied: certifi>=2017.4.17 in c:\\users\\shahad\\appdata\\local\\programs\\python\\python39\\lib\\site-packages (from requests<3.0,>=2.0->ibm_watson) (2021.5.30)\n",
      "Requirement already satisfied: urllib3<1.27,>=1.21.1 in c:\\users\\shahad\\appdata\\local\\programs\\python\\python39\\lib\\site-packages (from requests<3.0,>=2.0->ibm_watson) (1.26.6)\n",
      "Requirement already satisfied: chardet<5,>=3.0.2 in c:\\users\\shahad\\appdata\\local\\programs\\python\\python39\\lib\\site-packages (from requests<3.0,>=2.0->ibm_watson) (4.0.0)\n",
      "Note: you may need to restart the kernel to use updated packages.\n"
     ]
    }
   ],
   "source": [
    "pip install ibm_watson"
   ]
  },
  {
   "cell_type": "markdown",
   "id": "f5155dee-e2c7-4b84-bb80-2f20b951bb19",
   "metadata": {},
   "source": [
    "# 1.Authenticate"
   ]
  },
  {
   "cell_type": "code",
   "execution_count": 2,
   "id": "e8715936-34a5-40fb-82d6-814b8d894e00",
   "metadata": {},
   "outputs": [],
   "source": [
    "apikey = '-94P03G4N6fjlDBYH9Oa9yIOVfQ1PiXrDLBejnD7tOOs'\n",
    "url = 'https://api.us-south.text-to-speech.watson.cloud.ibm.com/instances/95860df2-d631-4035-bd4a-2b9d30e446e9'"
   ]
  },
  {
   "cell_type": "code",
   "execution_count": 3,
   "id": "ca9c2fc1-a913-416a-8cf7-449428bfb03c",
   "metadata": {},
   "outputs": [],
   "source": [
    "from ibm_watson import TextToSpeechV1\n",
    "from ibm_cloud_sdk_core.authenticators import IAMAuthenticator"
   ]
  },
  {
   "cell_type": "code",
   "execution_count": 4,
   "id": "dcf2a160-e2d2-4e80-bb45-311c4d7ac153",
   "metadata": {},
   "outputs": [],
   "source": [
    "# Setup Service\n",
    "authenticator = IAMAuthenticator(apikey)\n",
    "tts = TextToSpeechV1(authenticator=authenticator)\n",
    "tts.set_service_url(url)"
   ]
  },
  {
   "cell_type": "markdown",
   "id": "1509dc87-65e7-49fd-8e54-7a6fb08f465b",
   "metadata": {},
   "source": [
    "# 2.Convert a String"
   ]
  },
  {
   "cell_type": "code",
   "execution_count": 6,
   "id": "629e932f-6930-43e0-bf16-75ea3fe1f78b",
   "metadata": {},
   "outputs": [],
   "source": [
    "\n",
    "with open('./speech.mp3', 'wb') as audio_file:\n",
    "    res = tts.synthesize('Welcome, nice to see you', accept='audio/mp3', voice='en-US_AllisonV3Voice').get_result()\n",
    "    audio_file.write(res.content)"
   ]
  },
  {
   "cell_type": "markdown",
   "id": "aad9b820-e6f7-4287-96cd-53c83863dd47",
   "metadata": {},
   "source": [
    "# 3.Convert from a File"
   ]
  },
  {
   "cell_type": "code",
   "execution_count": 13,
   "id": "afe50ce1-f285-41b5-b151-31d265fbfc4a",
   "metadata": {},
   "outputs": [],
   "source": [
    "with open('IOT.txt', 'r') as f:\n",
    "    text = f.readlines()"
   ]
  },
  {
   "cell_type": "code",
   "execution_count": 14,
   "id": "12cbb2d2-9a9d-4dc7-b750-a270012e6282",
   "metadata": {},
   "outputs": [
    {
     "data": {
      "text/plain": [
       "['Thank you']"
      ]
     },
     "execution_count": 14,
     "metadata": {},
     "output_type": "execute_result"
    }
   ],
   "source": [
    "text"
   ]
  },
  {
   "cell_type": "code",
   "execution_count": 15,
   "id": "e4757ba7-064f-43b9-8457-fb57b319bda2",
   "metadata": {},
   "outputs": [],
   "source": [
    "text = [line.replace('\\n','') for line in text]\n",
    "text = ''.join(str(line) for line in text)"
   ]
  },
  {
   "cell_type": "code",
   "execution_count": 16,
   "id": "1bed9812-81e2-4647-9d19-abab4720d042",
   "metadata": {},
   "outputs": [
    {
     "data": {
      "text/plain": [
       "'Thank you'"
      ]
     },
     "execution_count": 16,
     "metadata": {},
     "output_type": "execute_result"
    }
   ],
   "source": [
    "text"
   ]
  },
  {
   "cell_type": "code",
   "execution_count": 17,
   "id": "fa761eab-4ea1-4c34-a476-e4da8908d0e3",
   "metadata": {},
   "outputs": [],
   "source": [
    "with open('./iot.mp3', 'wb') as audio_file:\n",
    "    res = tts.synthesize(text, accept='audio/mp3', voice='en-GB_JamesV3Voice').get_result()\n",
    "    audio_file.write(res.content)"
   ]
  },
  {
   "cell_type": "code",
   "execution_count": null,
   "id": "ed1aa896-c047-4769-8a60-f184a828c1e6",
   "metadata": {},
   "outputs": [],
   "source": []
  }
 ],
 "metadata": {
  "kernelspec": {
   "display_name": "Python 3 (ipykernel)",
   "language": "python",
   "name": "python3"
  },
  "language_info": {
   "codemirror_mode": {
    "name": "ipython",
    "version": 3
   },
   "file_extension": ".py",
   "mimetype": "text/x-python",
   "name": "python",
   "nbconvert_exporter": "python",
   "pygments_lexer": "ipython3",
   "version": "3.9.6"
  }
 },
 "nbformat": 4,
 "nbformat_minor": 5
}
